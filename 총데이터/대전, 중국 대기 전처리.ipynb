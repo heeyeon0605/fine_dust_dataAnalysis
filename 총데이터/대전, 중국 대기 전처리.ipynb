{
 "cells": [
  {
   "cell_type": "code",
   "execution_count": 1,
   "id": "4ee6be45",
   "metadata": {},
   "outputs": [],
   "source": [
    "import pandas as pd\n",
    "import numpy as np"
   ]
  },
  {
   "cell_type": "markdown",
   "id": "a747626e",
   "metadata": {},
   "source": [
    "# 대전 대기 월평균으로 결측값 채우기"
   ]
  },
  {
   "cell_type": "code",
   "execution_count": 18,
   "id": "ff9531a9",
   "metadata": {},
   "outputs": [
    {
     "data": {
      "text/html": [
       "<div>\n",
       "<style scoped>\n",
       "    .dataframe tbody tr th:only-of-type {\n",
       "        vertical-align: middle;\n",
       "    }\n",
       "\n",
       "    .dataframe tbody tr th {\n",
       "        vertical-align: top;\n",
       "    }\n",
       "\n",
       "    .dataframe thead th {\n",
       "        text-align: right;\n",
       "    }\n",
       "</style>\n",
       "<table border=\"1\" class=\"dataframe\">\n",
       "  <thead>\n",
       "    <tr style=\"text-align: right;\">\n",
       "      <th></th>\n",
       "      <th>date</th>\n",
       "      <th>SO2 (ppm)</th>\n",
       "      <th>PM10 (ug/m3)</th>\n",
       "      <th>O3 (ppm)</th>\n",
       "      <th>NO2 (ppm)</th>\n",
       "      <th>CO (ppm)</th>\n",
       "      <th>PM2.5 (ug/m3)</th>\n",
       "    </tr>\n",
       "  </thead>\n",
       "  <tbody>\n",
       "    <tr>\n",
       "      <th>0</th>\n",
       "      <td>2017-06-01</td>\n",
       "      <td>0.001</td>\n",
       "      <td>42.0</td>\n",
       "      <td>0.024</td>\n",
       "      <td>0.023</td>\n",
       "      <td>0.5</td>\n",
       "      <td>24.0</td>\n",
       "    </tr>\n",
       "    <tr>\n",
       "      <th>1</th>\n",
       "      <td>2017-06-02</td>\n",
       "      <td>0.002</td>\n",
       "      <td>34.0</td>\n",
       "      <td>0.030</td>\n",
       "      <td>0.023</td>\n",
       "      <td>0.6</td>\n",
       "      <td>14.0</td>\n",
       "    </tr>\n",
       "    <tr>\n",
       "      <th>2</th>\n",
       "      <td>2017-06-03</td>\n",
       "      <td>0.003</td>\n",
       "      <td>25.0</td>\n",
       "      <td>0.032</td>\n",
       "      <td>0.021</td>\n",
       "      <td>0.5</td>\n",
       "      <td>11.0</td>\n",
       "    </tr>\n",
       "    <tr>\n",
       "      <th>3</th>\n",
       "      <td>2017-06-04</td>\n",
       "      <td>0.003</td>\n",
       "      <td>31.0</td>\n",
       "      <td>0.040</td>\n",
       "      <td>0.020</td>\n",
       "      <td>0.5</td>\n",
       "      <td>14.0</td>\n",
       "    </tr>\n",
       "    <tr>\n",
       "      <th>4</th>\n",
       "      <td>2017-06-05</td>\n",
       "      <td>0.004</td>\n",
       "      <td>35.0</td>\n",
       "      <td>0.033</td>\n",
       "      <td>0.031</td>\n",
       "      <td>0.7</td>\n",
       "      <td>14.0</td>\n",
       "    </tr>\n",
       "    <tr>\n",
       "      <th>...</th>\n",
       "      <td>...</td>\n",
       "      <td>...</td>\n",
       "      <td>...</td>\n",
       "      <td>...</td>\n",
       "      <td>...</td>\n",
       "      <td>...</td>\n",
       "      <td>...</td>\n",
       "    </tr>\n",
       "    <tr>\n",
       "      <th>1486</th>\n",
       "      <td>2021-06-26</td>\n",
       "      <td>0.003</td>\n",
       "      <td>19.0</td>\n",
       "      <td>0.036</td>\n",
       "      <td>0.018</td>\n",
       "      <td>0.4</td>\n",
       "      <td>10.0</td>\n",
       "    </tr>\n",
       "    <tr>\n",
       "      <th>1487</th>\n",
       "      <td>2021-06-27</td>\n",
       "      <td>0.003</td>\n",
       "      <td>22.0</td>\n",
       "      <td>0.040</td>\n",
       "      <td>0.014</td>\n",
       "      <td>0.4</td>\n",
       "      <td>13.0</td>\n",
       "    </tr>\n",
       "    <tr>\n",
       "      <th>1488</th>\n",
       "      <td>2021-06-28</td>\n",
       "      <td>0.003</td>\n",
       "      <td>24.0</td>\n",
       "      <td>0.038</td>\n",
       "      <td>0.018</td>\n",
       "      <td>0.4</td>\n",
       "      <td>15.0</td>\n",
       "    </tr>\n",
       "    <tr>\n",
       "      <th>1489</th>\n",
       "      <td>2021-06-29</td>\n",
       "      <td>0.003</td>\n",
       "      <td>25.0</td>\n",
       "      <td>0.037</td>\n",
       "      <td>0.019</td>\n",
       "      <td>0.4</td>\n",
       "      <td>16.0</td>\n",
       "    </tr>\n",
       "    <tr>\n",
       "      <th>1490</th>\n",
       "      <td>2021-06-30</td>\n",
       "      <td>0.003</td>\n",
       "      <td>38.0</td>\n",
       "      <td>0.034</td>\n",
       "      <td>0.024</td>\n",
       "      <td>0.4</td>\n",
       "      <td>23.0</td>\n",
       "    </tr>\n",
       "  </tbody>\n",
       "</table>\n",
       "<p>1491 rows × 7 columns</p>\n",
       "</div>"
      ],
      "text/plain": [
       "            date  SO2 (ppm)  PM10 (ug/m3)  O3 (ppm)  NO2 (ppm)  CO (ppm)  \\\n",
       "0     2017-06-01      0.001          42.0     0.024      0.023       0.5   \n",
       "1     2017-06-02      0.002          34.0     0.030      0.023       0.6   \n",
       "2     2017-06-03      0.003          25.0     0.032      0.021       0.5   \n",
       "3     2017-06-04      0.003          31.0     0.040      0.020       0.5   \n",
       "4     2017-06-05      0.004          35.0     0.033      0.031       0.7   \n",
       "...          ...        ...           ...       ...        ...       ...   \n",
       "1486  2021-06-26      0.003          19.0     0.036      0.018       0.4   \n",
       "1487  2021-06-27      0.003          22.0     0.040      0.014       0.4   \n",
       "1488  2021-06-28      0.003          24.0     0.038      0.018       0.4   \n",
       "1489  2021-06-29      0.003          25.0     0.037      0.019       0.4   \n",
       "1490  2021-06-30      0.003          38.0     0.034      0.024       0.4   \n",
       "\n",
       "      PM2.5 (ug/m3)  \n",
       "0              24.0  \n",
       "1              14.0  \n",
       "2              11.0  \n",
       "3              14.0  \n",
       "4              14.0  \n",
       "...             ...  \n",
       "1486           10.0  \n",
       "1487           13.0  \n",
       "1488           15.0  \n",
       "1489           16.0  \n",
       "1490           23.0  \n",
       "\n",
       "[1491 rows x 7 columns]"
      ]
     },
     "execution_count": 18,
     "metadata": {},
     "output_type": "execute_result"
    }
   ],
   "source": [
    "# 결측값 채우기 전 파일\n",
    "air = pd.read_csv(\"air.csv\")\n",
    "air"
   ]
  },
  {
   "cell_type": "code",
   "execution_count": 4,
   "id": "85cb6263",
   "metadata": {},
   "outputs": [
    {
     "name": "stdout",
     "output_type": "stream",
     "text": [
      "<class 'pandas.core.frame.DataFrame'>\n",
      "RangeIndex: 1491 entries, 0 to 1490\n",
      "Data columns (total 7 columns):\n",
      " #   Column         Non-Null Count  Dtype  \n",
      "---  ------         --------------  -----  \n",
      " 0   date           1491 non-null   object \n",
      " 1   SO2 (ppm)      1480 non-null   float64\n",
      " 2   PM10 (ug/m3)   1491 non-null   float64\n",
      " 3   O3 (ppm)       1475 non-null   float64\n",
      " 4   NO2 (ppm)      1476 non-null   float64\n",
      " 5   CO (ppm)       1480 non-null   float64\n",
      " 6   PM2.5 (ug/m3)  1491 non-null   float64\n",
      "dtypes: float64(6), object(1)\n",
      "memory usage: 81.7+ KB\n"
     ]
    }
   ],
   "source": [
    "air.info()"
   ]
  },
  {
   "cell_type": "code",
   "execution_count": 19,
   "id": "f8950214",
   "metadata": {},
   "outputs": [],
   "source": [
    "air.columns = ['date', 'SO2', 'PM10', 'O3', 'NO2', 'CO', 'PM2.5']"
   ]
  },
  {
   "cell_type": "code",
   "execution_count": 7,
   "id": "f5163fda",
   "metadata": {},
   "outputs": [
    {
     "name": "stdout",
     "output_type": "stream",
     "text": [
      "<class 'pandas.core.frame.DataFrame'>\n",
      "RangeIndex: 1491 entries, 0 to 1490\n",
      "Data columns (total 7 columns):\n",
      " #   Column  Non-Null Count  Dtype  \n",
      "---  ------  --------------  -----  \n",
      " 0   date    1491 non-null   object \n",
      " 1   SO2     1480 non-null   float64\n",
      " 2   PM10    1491 non-null   float64\n",
      " 3   O3      1475 non-null   float64\n",
      " 4   NO2     1476 non-null   float64\n",
      " 5   CO      1480 non-null   float64\n",
      " 6   PM2.5   1491 non-null   float64\n",
      "dtypes: float64(6), object(1)\n",
      "memory usage: 81.7+ KB\n"
     ]
    }
   ],
   "source": [
    "df_null = air[air['PM10'].isnull()]\n",
    "index_list = air.index[air['PM10'].isnull()].tolist()\n",
    "\n",
    "for i in index_list:\n",
    "    month = air[air['date'].str.contains(air['date'][i][:7]+'-')]\n",
    "    n = round(month['PM10'].mean(),0)\n",
    "    air.at[i,'PM10'] = n\n",
    "\n",
    "air.info()"
   ]
  },
  {
   "cell_type": "code",
   "execution_count": 8,
   "id": "35f373e4",
   "metadata": {},
   "outputs": [
    {
     "data": {
      "text/plain": [
       "0"
      ]
     },
     "execution_count": 8,
     "metadata": {},
     "output_type": "execute_result"
    }
   ],
   "source": [
    "df_null = air[air['PM2.5'].isnull()]\n",
    "index_list = air.index[air['PM2.5'].isnull()].tolist()\n",
    "\n",
    "for i in index_list:\n",
    "    month = air[air['date'].str.contains(air['date'][i][:7]+'-')]\n",
    "    n = round(month['PM2.5'].mean(),0)\n",
    "    air.at[i,'PM2.5'] = n\n",
    "\n",
    "air.info()"
   ]
  },
  {
   "cell_type": "code",
   "execution_count": 20,
   "id": "bdd3d754",
   "metadata": {},
   "outputs": [
    {
     "name": "stdout",
     "output_type": "stream",
     "text": [
      "<class 'pandas.core.frame.DataFrame'>\n",
      "RangeIndex: 1491 entries, 0 to 1490\n",
      "Data columns (total 7 columns):\n",
      " #   Column  Non-Null Count  Dtype  \n",
      "---  ------  --------------  -----  \n",
      " 0   date    1491 non-null   object \n",
      " 1   SO2     1491 non-null   float64\n",
      " 2   PM10    1491 non-null   float64\n",
      " 3   O3      1475 non-null   float64\n",
      " 4   NO2     1476 non-null   float64\n",
      " 5   CO      1480 non-null   float64\n",
      " 6   PM2.5   1491 non-null   float64\n",
      "dtypes: float64(6), object(1)\n",
      "memory usage: 81.7+ KB\n"
     ]
    }
   ],
   "source": [
    "df_null = air[air['SO2'].isnull()]\n",
    "index_list = air.index[air['SO2'].isnull()].tolist()\n",
    "\n",
    "for i in index_list:\n",
    "    month = air[air['date'].str.contains(air['date'][i][:7]+'-')]\n",
    "    n = round(month['SO2'].mean(),0)\n",
    "    air.at[i,'SO2'] = n\n",
    "\n",
    "air.info()"
   ]
  },
  {
   "cell_type": "code",
   "execution_count": 21,
   "id": "e89a8a6e",
   "metadata": {},
   "outputs": [
    {
     "name": "stdout",
     "output_type": "stream",
     "text": [
      "<class 'pandas.core.frame.DataFrame'>\n",
      "RangeIndex: 1491 entries, 0 to 1490\n",
      "Data columns (total 7 columns):\n",
      " #   Column  Non-Null Count  Dtype  \n",
      "---  ------  --------------  -----  \n",
      " 0   date    1491 non-null   object \n",
      " 1   SO2     1491 non-null   float64\n",
      " 2   PM10    1491 non-null   float64\n",
      " 3   O3      1491 non-null   float64\n",
      " 4   NO2     1476 non-null   float64\n",
      " 5   CO      1480 non-null   float64\n",
      " 6   PM2.5   1491 non-null   float64\n",
      "dtypes: float64(6), object(1)\n",
      "memory usage: 81.7+ KB\n"
     ]
    }
   ],
   "source": [
    "df_null = air[air['O3'].isnull()]\n",
    "index_list = air.index[air['O3'].isnull()].tolist()\n",
    "\n",
    "for i in index_list:\n",
    "    month = air[air['date'].str.contains(air['date'][i][:7]+'-')]\n",
    "    n = round(month['O3'].mean(),0)\n",
    "    air.at[i,'O3'] = n\n",
    "\n",
    "air.info()"
   ]
  },
  {
   "cell_type": "code",
   "execution_count": 22,
   "id": "afefdd70",
   "metadata": {},
   "outputs": [
    {
     "name": "stdout",
     "output_type": "stream",
     "text": [
      "<class 'pandas.core.frame.DataFrame'>\n",
      "RangeIndex: 1491 entries, 0 to 1490\n",
      "Data columns (total 7 columns):\n",
      " #   Column  Non-Null Count  Dtype  \n",
      "---  ------  --------------  -----  \n",
      " 0   date    1491 non-null   object \n",
      " 1   SO2     1491 non-null   float64\n",
      " 2   PM10    1491 non-null   float64\n",
      " 3   O3      1491 non-null   float64\n",
      " 4   NO2     1491 non-null   float64\n",
      " 5   CO      1480 non-null   float64\n",
      " 6   PM2.5   1491 non-null   float64\n",
      "dtypes: float64(6), object(1)\n",
      "memory usage: 81.7+ KB\n"
     ]
    }
   ],
   "source": [
    "df_null = air[air['NO2'].isnull()]\n",
    "index_list = air.index[air['NO2'].isnull()].tolist()\n",
    "\n",
    "for i in index_list:\n",
    "    month = air[air['date'].str.contains(air['date'][i][:7]+'-')]\n",
    "    n = round(month['NO2'].mean(),0)\n",
    "    air.at[i,'NO2'] = n\n",
    "\n",
    "air.info()"
   ]
  },
  {
   "cell_type": "code",
   "execution_count": 23,
   "id": "02d34046",
   "metadata": {},
   "outputs": [
    {
     "name": "stdout",
     "output_type": "stream",
     "text": [
      "<class 'pandas.core.frame.DataFrame'>\n",
      "RangeIndex: 1491 entries, 0 to 1490\n",
      "Data columns (total 7 columns):\n",
      " #   Column  Non-Null Count  Dtype  \n",
      "---  ------  --------------  -----  \n",
      " 0   date    1491 non-null   object \n",
      " 1   SO2     1491 non-null   float64\n",
      " 2   PM10    1491 non-null   float64\n",
      " 3   O3      1491 non-null   float64\n",
      " 4   NO2     1491 non-null   float64\n",
      " 5   CO      1491 non-null   float64\n",
      " 6   PM2.5   1491 non-null   float64\n",
      "dtypes: float64(6), object(1)\n",
      "memory usage: 81.7+ KB\n"
     ]
    }
   ],
   "source": [
    "df_null = air[air['CO'].isnull()]\n",
    "index_list = air.index[air['CO'].isnull()].tolist()\n",
    "\n",
    "for i in index_list:\n",
    "    month = air[air['date'].str.contains(air['date'][i][:7]+'-')]\n",
    "    n = round(month['CO'].mean(),0)\n",
    "    air.at[i,'CO'] = n\n",
    "\n",
    "air.info()"
   ]
  },
  {
   "cell_type": "code",
   "execution_count": null,
   "id": "d3d57747",
   "metadata": {},
   "outputs": [],
   "source": [
    "# 결측값 채우고 새로운 csv 파일로 저장\n",
    "air.to_csv(\"air_new.csv\", mode='w', index=False)"
   ]
  },
  {
   "cell_type": "markdown",
   "id": "e10672e4",
   "metadata": {},
   "source": [
    "# 중국 대기 월 평균으로 결측값 채우기"
   ]
  },
  {
   "cell_type": "code",
   "execution_count": 26,
   "id": "49fbc1de",
   "metadata": {},
   "outputs": [
    {
     "data": {
      "text/html": [
       "<div>\n",
       "<style scoped>\n",
       "    .dataframe tbody tr th:only-of-type {\n",
       "        vertical-align: middle;\n",
       "    }\n",
       "\n",
       "    .dataframe tbody tr th {\n",
       "        vertical-align: top;\n",
       "    }\n",
       "\n",
       "    .dataframe thead th {\n",
       "        text-align: right;\n",
       "    }\n",
       "</style>\n",
       "<table border=\"1\" class=\"dataframe\">\n",
       "  <thead>\n",
       "    <tr style=\"text-align: right;\">\n",
       "      <th></th>\n",
       "      <th>date</th>\n",
       "      <th>PM2.5</th>\n",
       "      <th>PM10</th>\n",
       "    </tr>\n",
       "  </thead>\n",
       "  <tbody>\n",
       "    <tr>\n",
       "      <th>0</th>\n",
       "      <td>2017-06-01</td>\n",
       "      <td>23</td>\n",
       "      <td>57</td>\n",
       "    </tr>\n",
       "    <tr>\n",
       "      <th>1</th>\n",
       "      <td>2017-06-02</td>\n",
       "      <td>23</td>\n",
       "      <td>65</td>\n",
       "    </tr>\n",
       "    <tr>\n",
       "      <th>2</th>\n",
       "      <td>2017-06-03</td>\n",
       "      <td>29</td>\n",
       "      <td>56</td>\n",
       "    </tr>\n",
       "    <tr>\n",
       "      <th>3</th>\n",
       "      <td>2017-06-04</td>\n",
       "      <td>48</td>\n",
       "      <td>93</td>\n",
       "    </tr>\n",
       "    <tr>\n",
       "      <th>4</th>\n",
       "      <td>2017-06-05</td>\n",
       "      <td>65</td>\n",
       "      <td>115</td>\n",
       "    </tr>\n",
       "    <tr>\n",
       "      <th>...</th>\n",
       "      <td>...</td>\n",
       "      <td>...</td>\n",
       "      <td>...</td>\n",
       "    </tr>\n",
       "    <tr>\n",
       "      <th>1486</th>\n",
       "      <td>2021-06-26</td>\n",
       "      <td>22</td>\n",
       "      <td>40</td>\n",
       "    </tr>\n",
       "    <tr>\n",
       "      <th>1487</th>\n",
       "      <td>2021-06-27</td>\n",
       "      <td>26</td>\n",
       "      <td>48</td>\n",
       "    </tr>\n",
       "    <tr>\n",
       "      <th>1488</th>\n",
       "      <td>2021-06-28</td>\n",
       "      <td>32</td>\n",
       "      <td>53</td>\n",
       "    </tr>\n",
       "    <tr>\n",
       "      <th>1489</th>\n",
       "      <td>2021-06-29</td>\n",
       "      <td>26</td>\n",
       "      <td>40</td>\n",
       "    </tr>\n",
       "    <tr>\n",
       "      <th>1490</th>\n",
       "      <td>2021-06-30</td>\n",
       "      <td>14</td>\n",
       "      <td>27</td>\n",
       "    </tr>\n",
       "  </tbody>\n",
       "</table>\n",
       "<p>1491 rows × 3 columns</p>\n",
       "</div>"
      ],
      "text/plain": [
       "            date  PM2.5  PM10\n",
       "0     2017-06-01     23    57\n",
       "1     2017-06-02     23    65\n",
       "2     2017-06-03     29    56\n",
       "3     2017-06-04     48    93\n",
       "4     2017-06-05     65   115\n",
       "...          ...    ...   ...\n",
       "1486  2021-06-26     22    40\n",
       "1487  2021-06-27     26    48\n",
       "1488  2021-06-28     32    53\n",
       "1489  2021-06-29     26    40\n",
       "1490  2021-06-30     14    27\n",
       "\n",
       "[1491 rows x 3 columns]"
      ]
     },
     "execution_count": 26,
     "metadata": {},
     "output_type": "execute_result"
    }
   ],
   "source": [
    "# 결측값 채우기 전 파일\n",
    "beijing = pd.read_csv(\"beijing.csv\")\n",
    "beijing"
   ]
  },
  {
   "cell_type": "code",
   "execution_count": 27,
   "id": "9d0a4c66",
   "metadata": {},
   "outputs": [
    {
     "name": "stdout",
     "output_type": "stream",
     "text": [
      "<class 'pandas.core.frame.DataFrame'>\n",
      "RangeIndex: 1491 entries, 0 to 1490\n",
      "Data columns (total 3 columns):\n",
      " #   Column  Non-Null Count  Dtype \n",
      "---  ------  --------------  ----- \n",
      " 0   date    1491 non-null   object\n",
      " 1   PM2.5   1491 non-null   int64 \n",
      " 2   PM10    1491 non-null   int64 \n",
      "dtypes: int64(2), object(1)\n",
      "memory usage: 35.1+ KB\n"
     ]
    }
   ],
   "source": [
    "beijing.info()"
   ]
  },
  {
   "cell_type": "code",
   "execution_count": 31,
   "id": "fe683f4c",
   "metadata": {},
   "outputs": [
    {
     "data": {
      "text/plain": [
       "0"
      ]
     },
     "execution_count": 31,
     "metadata": {},
     "output_type": "execute_result"
    }
   ],
   "source": [
    "df_null = beijing[beijing['PM10']==0]\n",
    "index_list = beijing.index[beijing['PM10']==0].tolist()\n",
    "\n",
    "for i in index_list:\n",
    "    month = beijing[beijing['date'].str.contains(beijing['date'][i][:7]+'-')]\n",
    "    n = round(month['PM10'].mean(),0)\n",
    "    beijing.at[i,'PM10'] = n\n",
    "\n",
    "len(beijing[beijing['PM10']==0])"
   ]
  },
  {
   "cell_type": "code",
   "execution_count": 32,
   "id": "57d720bf",
   "metadata": {},
   "outputs": [
    {
     "data": {
      "text/plain": [
       "0"
      ]
     },
     "execution_count": 32,
     "metadata": {},
     "output_type": "execute_result"
    }
   ],
   "source": [
    "df_null = beijing[beijing['PM2.5']==0]\n",
    "index_list = beijing.index[beijing['PM2.5']==0].tolist()\n",
    "\n",
    "for i in index_list:\n",
    "    month = beijing[beijing['date'].str.contains(beijing['date'][i][:7]+'-')]\n",
    "    n = round(month['PM2.5'].mean(),0)\n",
    "    beijing.at[i,'PM2.5'] = n\n",
    "\n",
    "len(beijing[beijing['PM2.5']==0])"
   ]
  },
  {
   "cell_type": "code",
   "execution_count": null,
   "id": "bb80c663",
   "metadata": {},
   "outputs": [],
   "source": [
    "# 결측값 채우고 새로운 csv 파일로 저장\n",
    "beijing.to_csv(\"beijing_new.csv\", mode='w', index=False)"
   ]
  },
  {
   "cell_type": "code",
   "execution_count": null,
   "id": "50c7a3c0",
   "metadata": {},
   "outputs": [],
   "source": []
  },
  {
   "cell_type": "code",
   "execution_count": 36,
   "id": "96d33119",
   "metadata": {},
   "outputs": [
    {
     "data": {
      "text/html": [
       "<div>\n",
       "<style scoped>\n",
       "    .dataframe tbody tr th:only-of-type {\n",
       "        vertical-align: middle;\n",
       "    }\n",
       "\n",
       "    .dataframe tbody tr th {\n",
       "        vertical-align: top;\n",
       "    }\n",
       "\n",
       "    .dataframe thead th {\n",
       "        text-align: right;\n",
       "    }\n",
       "</style>\n",
       "<table border=\"1\" class=\"dataframe\">\n",
       "  <thead>\n",
       "    <tr style=\"text-align: right;\">\n",
       "      <th></th>\n",
       "      <th>date</th>\n",
       "      <th>PM2.5</th>\n",
       "      <th>PM10</th>\n",
       "    </tr>\n",
       "  </thead>\n",
       "  <tbody>\n",
       "    <tr>\n",
       "      <th>0</th>\n",
       "      <td>2017-06-01</td>\n",
       "      <td>40</td>\n",
       "      <td>67</td>\n",
       "    </tr>\n",
       "    <tr>\n",
       "      <th>1</th>\n",
       "      <td>2017-06-02</td>\n",
       "      <td>14</td>\n",
       "      <td>52</td>\n",
       "    </tr>\n",
       "    <tr>\n",
       "      <th>2</th>\n",
       "      <td>2017-06-03</td>\n",
       "      <td>30</td>\n",
       "      <td>54</td>\n",
       "    </tr>\n",
       "    <tr>\n",
       "      <th>3</th>\n",
       "      <td>2017-06-04</td>\n",
       "      <td>35</td>\n",
       "      <td>70</td>\n",
       "    </tr>\n",
       "    <tr>\n",
       "      <th>4</th>\n",
       "      <td>2017-06-05</td>\n",
       "      <td>52</td>\n",
       "      <td>97</td>\n",
       "    </tr>\n",
       "    <tr>\n",
       "      <th>...</th>\n",
       "      <td>...</td>\n",
       "      <td>...</td>\n",
       "      <td>...</td>\n",
       "    </tr>\n",
       "    <tr>\n",
       "      <th>1486</th>\n",
       "      <td>2021-06-26</td>\n",
       "      <td>32</td>\n",
       "      <td>61</td>\n",
       "    </tr>\n",
       "    <tr>\n",
       "      <th>1487</th>\n",
       "      <td>2021-06-27</td>\n",
       "      <td>37</td>\n",
       "      <td>70</td>\n",
       "    </tr>\n",
       "    <tr>\n",
       "      <th>1488</th>\n",
       "      <td>2021-06-28</td>\n",
       "      <td>43</td>\n",
       "      <td>77</td>\n",
       "    </tr>\n",
       "    <tr>\n",
       "      <th>1489</th>\n",
       "      <td>2021-06-29</td>\n",
       "      <td>27</td>\n",
       "      <td>46</td>\n",
       "    </tr>\n",
       "    <tr>\n",
       "      <th>1490</th>\n",
       "      <td>2021-06-30</td>\n",
       "      <td>27</td>\n",
       "      <td>44</td>\n",
       "    </tr>\n",
       "  </tbody>\n",
       "</table>\n",
       "<p>1491 rows × 3 columns</p>\n",
       "</div>"
      ],
      "text/plain": [
       "            date  PM2.5  PM10\n",
       "0     2017-06-01     40    67\n",
       "1     2017-06-02     14    52\n",
       "2     2017-06-03     30    54\n",
       "3     2017-06-04     35    70\n",
       "4     2017-06-05     52    97\n",
       "...          ...    ...   ...\n",
       "1486  2021-06-26     32    61\n",
       "1487  2021-06-27     37    70\n",
       "1488  2021-06-28     43    77\n",
       "1489  2021-06-29     27    46\n",
       "1490  2021-06-30     27    44\n",
       "\n",
       "[1491 rows x 3 columns]"
      ]
     },
     "execution_count": 36,
     "metadata": {},
     "output_type": "execute_result"
    }
   ],
   "source": [
    "# 결측값 채우기 전 파일\n",
    "tianjin = pd.read_csv(\"tianjin.csv\")\n",
    "tianjin"
   ]
  },
  {
   "cell_type": "code",
   "execution_count": 37,
   "id": "26ccb08d",
   "metadata": {},
   "outputs": [
    {
     "name": "stdout",
     "output_type": "stream",
     "text": [
      "<class 'pandas.core.frame.DataFrame'>\n",
      "RangeIndex: 1491 entries, 0 to 1490\n",
      "Data columns (total 3 columns):\n",
      " #   Column  Non-Null Count  Dtype \n",
      "---  ------  --------------  ----- \n",
      " 0   date    1491 non-null   object\n",
      " 1   PM2.5   1491 non-null   int64 \n",
      " 2   PM10    1491 non-null   int64 \n",
      "dtypes: int64(2), object(1)\n",
      "memory usage: 35.1+ KB\n"
     ]
    }
   ],
   "source": [
    "tianjin.info()"
   ]
  },
  {
   "cell_type": "code",
   "execution_count": 38,
   "id": "34ac8eda",
   "metadata": {},
   "outputs": [
    {
     "data": {
      "text/plain": [
       "0"
      ]
     },
     "execution_count": 38,
     "metadata": {},
     "output_type": "execute_result"
    }
   ],
   "source": [
    "df_null = tianjin[tianjin['PM10']==0]\n",
    "index_list = tianjin.index[tianjin['PM10']==0].tolist()\n",
    "\n",
    "for i in index_list:\n",
    "    month = tianjin[tianjin['date'].str.contains(tianjin['date'][i][:7]+'-')]\n",
    "    n = round(month['PM10'].mean(),0)\n",
    "    tianjin.at[i,'PM10'] = n\n",
    "\n",
    "len(tianjin[tianjin['PM10']==0])"
   ]
  },
  {
   "cell_type": "code",
   "execution_count": 39,
   "id": "134b566f",
   "metadata": {},
   "outputs": [
    {
     "data": {
      "text/plain": [
       "0"
      ]
     },
     "execution_count": 39,
     "metadata": {},
     "output_type": "execute_result"
    }
   ],
   "source": [
    "df_null = tianjin[tianjin['PM2.5']==0]\n",
    "index_list = tianjin.index[tianjin['PM2.5']==0].tolist()\n",
    "\n",
    "for i in index_list:\n",
    "    month = tianjin[tianjin['date'].str.contains(tianjin['date'][i][:7]+'-')]\n",
    "    n = round(month['PM2.5'].mean(),0)\n",
    "    tianjin.at[i,'PM2.5'] = n\n",
    "\n",
    "len(tianjin[tianjin['PM2.5']==0])"
   ]
  },
  {
   "cell_type": "code",
   "execution_count": null,
   "id": "7ff6a3ef",
   "metadata": {},
   "outputs": [],
   "source": [
    "# 결측값 채우고 새로운 csv 파일로 저장\n",
    "tianjin.to_csv(\"tianjin_new.csv\", mode='w', index=False)"
   ]
  },
  {
   "cell_type": "code",
   "execution_count": null,
   "id": "b189199c",
   "metadata": {},
   "outputs": [],
   "source": []
  },
  {
   "cell_type": "code",
   "execution_count": 40,
   "id": "439fa7ac",
   "metadata": {},
   "outputs": [
    {
     "data": {
      "text/html": [
       "<div>\n",
       "<style scoped>\n",
       "    .dataframe tbody tr th:only-of-type {\n",
       "        vertical-align: middle;\n",
       "    }\n",
       "\n",
       "    .dataframe tbody tr th {\n",
       "        vertical-align: top;\n",
       "    }\n",
       "\n",
       "    .dataframe thead th {\n",
       "        text-align: right;\n",
       "    }\n",
       "</style>\n",
       "<table border=\"1\" class=\"dataframe\">\n",
       "  <thead>\n",
       "    <tr style=\"text-align: right;\">\n",
       "      <th></th>\n",
       "      <th>date</th>\n",
       "      <th>PM2.5</th>\n",
       "      <th>PM10</th>\n",
       "    </tr>\n",
       "  </thead>\n",
       "  <tbody>\n",
       "    <tr>\n",
       "      <th>0</th>\n",
       "      <td>2017-06-01</td>\n",
       "      <td>72</td>\n",
       "      <td>164</td>\n",
       "    </tr>\n",
       "    <tr>\n",
       "      <th>1</th>\n",
       "      <td>2017-06-02</td>\n",
       "      <td>44</td>\n",
       "      <td>132</td>\n",
       "    </tr>\n",
       "    <tr>\n",
       "      <th>2</th>\n",
       "      <td>2017-06-03</td>\n",
       "      <td>28</td>\n",
       "      <td>79</td>\n",
       "    </tr>\n",
       "    <tr>\n",
       "      <th>3</th>\n",
       "      <td>2017-06-04</td>\n",
       "      <td>48</td>\n",
       "      <td>114</td>\n",
       "    </tr>\n",
       "    <tr>\n",
       "      <th>4</th>\n",
       "      <td>2017-06-05</td>\n",
       "      <td>23</td>\n",
       "      <td>63</td>\n",
       "    </tr>\n",
       "    <tr>\n",
       "      <th>...</th>\n",
       "      <td>...</td>\n",
       "      <td>...</td>\n",
       "      <td>...</td>\n",
       "    </tr>\n",
       "    <tr>\n",
       "      <th>1486</th>\n",
       "      <td>2021-06-26</td>\n",
       "      <td>26</td>\n",
       "      <td>44</td>\n",
       "    </tr>\n",
       "    <tr>\n",
       "      <th>1487</th>\n",
       "      <td>2021-06-27</td>\n",
       "      <td>38</td>\n",
       "      <td>66</td>\n",
       "    </tr>\n",
       "    <tr>\n",
       "      <th>1488</th>\n",
       "      <td>2021-06-28</td>\n",
       "      <td>43</td>\n",
       "      <td>75</td>\n",
       "    </tr>\n",
       "    <tr>\n",
       "      <th>1489</th>\n",
       "      <td>2021-06-29</td>\n",
       "      <td>22</td>\n",
       "      <td>40</td>\n",
       "    </tr>\n",
       "    <tr>\n",
       "      <th>1490</th>\n",
       "      <td>2021-06-30</td>\n",
       "      <td>24</td>\n",
       "      <td>46</td>\n",
       "    </tr>\n",
       "  </tbody>\n",
       "</table>\n",
       "<p>1491 rows × 3 columns</p>\n",
       "</div>"
      ],
      "text/plain": [
       "            date  PM2.5  PM10\n",
       "0     2017-06-01     72   164\n",
       "1     2017-06-02     44   132\n",
       "2     2017-06-03     28    79\n",
       "3     2017-06-04     48   114\n",
       "4     2017-06-05     23    63\n",
       "...          ...    ...   ...\n",
       "1486  2021-06-26     26    44\n",
       "1487  2021-06-27     38    66\n",
       "1488  2021-06-28     43    75\n",
       "1489  2021-06-29     22    40\n",
       "1490  2021-06-30     24    46\n",
       "\n",
       "[1491 rows x 3 columns]"
      ]
     },
     "execution_count": 40,
     "metadata": {},
     "output_type": "execute_result"
    }
   ],
   "source": [
    "# 결측값 채우기 전 파일\n",
    "jinan = pd.read_csv(\"jinan.csv\")\n",
    "jinan"
   ]
  },
  {
   "cell_type": "code",
   "execution_count": 41,
   "id": "4ec81052",
   "metadata": {},
   "outputs": [
    {
     "name": "stdout",
     "output_type": "stream",
     "text": [
      "<class 'pandas.core.frame.DataFrame'>\n",
      "RangeIndex: 1491 entries, 0 to 1490\n",
      "Data columns (total 3 columns):\n",
      " #   Column  Non-Null Count  Dtype \n",
      "---  ------  --------------  ----- \n",
      " 0   date    1491 non-null   object\n",
      " 1   PM2.5   1491 non-null   int64 \n",
      " 2   PM10    1491 non-null   int64 \n",
      "dtypes: int64(2), object(1)\n",
      "memory usage: 35.1+ KB\n"
     ]
    }
   ],
   "source": [
    "jinan.info()"
   ]
  },
  {
   "cell_type": "code",
   "execution_count": 42,
   "id": "9013273d",
   "metadata": {},
   "outputs": [
    {
     "data": {
      "text/plain": [
       "0"
      ]
     },
     "execution_count": 42,
     "metadata": {},
     "output_type": "execute_result"
    }
   ],
   "source": [
    "df_null = jinan[jinan['PM10']==0]\n",
    "index_list = jinan.index[jinan['PM10']==0].tolist()\n",
    "\n",
    "for i in index_list:\n",
    "    month = jinan[jinan['date'].str.contains(jinan['date'][i][:7]+'-')]\n",
    "    n = round(month['PM10'].mean(),0)\n",
    "    jinan.at[i,'PM10'] = n\n",
    "\n",
    "len(jinan[jinan['PM10']==0])"
   ]
  },
  {
   "cell_type": "code",
   "execution_count": 43,
   "id": "37892590",
   "metadata": {},
   "outputs": [
    {
     "data": {
      "text/plain": [
       "0"
      ]
     },
     "execution_count": 43,
     "metadata": {},
     "output_type": "execute_result"
    }
   ],
   "source": [
    "df_null = jinan[jinan['PM2.5']==0]\n",
    "index_list = jinan.index[jinan['PM2.5']==0].tolist()\n",
    "\n",
    "for i in index_list:\n",
    "    month = jinan[jinan['date'].str.contains(jinan['date'][i][:7]+'-')]\n",
    "    n = round(month['PM2.5'].mean(),0)\n",
    "    jinan.at[i,'PM2.5'] = n\n",
    "\n",
    "len(jinan[jinan['PM2.5']==0])"
   ]
  },
  {
   "cell_type": "code",
   "execution_count": 44,
   "id": "3ad33c13",
   "metadata": {},
   "outputs": [],
   "source": [
    "# 결측값 채우고 새로운 csv 파일로 저장\n",
    "jinan.to_csv(\"jinan_new.csv\", mode='w', index=False)"
   ]
  }
 ],
 "metadata": {
  "kernelspec": {
   "display_name": "Python 3",
   "language": "python",
   "name": "python3"
  },
  "language_info": {
   "codemirror_mode": {
    "name": "ipython",
    "version": 3
   },
   "file_extension": ".py",
   "mimetype": "text/x-python",
   "name": "python",
   "nbconvert_exporter": "python",
   "pygments_lexer": "ipython3",
   "version": "3.8.8"
  }
 },
 "nbformat": 4,
 "nbformat_minor": 5
}
